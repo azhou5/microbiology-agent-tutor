{
 "cells": [
  {
   "cell_type": "code",
   "execution_count": 1,
   "metadata": {},
   "outputs": [],
   "source": [
    "import os\n",
    "from openai import AzureOpenAI\n"
   ]
  },
  {
   "cell_type": "code",
   "execution_count": 13,
   "metadata": {},
   "outputs": [],
   "source": [
    "def get_embeddings_batch(texts):\n",
    "    \"\"\"\n",
    "    Get embeddings for a batch of text strings using OpenAI's embedding model.\n",
    "    \n",
    "    Args:\n",
    "        texts: List of texts to embed\n",
    "        \n",
    "    Returns:\n",
    "        List of embeddings (each embedding is a list of floats)\n",
    "    \"\"\"\n",
    "\n",
    "    client = AzureOpenAI(\n",
    "            azure_endpoint=os.getenv(\"AZURE_OPENAI_ENDPOINT\"),\n",
    "            api_key=os.getenv(\"AZURE_OPENAI_API_KEY\"),\n",
    "            api_version=os.getenv(\"AZURE_OPENAI_API_VERSION\", \"2024-12-01-preview\")\n",
    "        )\n",
    "    response = client.embeddings.create(\n",
    "        model=\"text-embedding-3-small\",\n",
    "        input=texts\n",
    "    )\n",
    "    return [data.embedding for data in response.data]\n"
   ]
  },
  {
   "cell_type": "code",
   "execution_count": 67,
   "metadata": {},
   "outputs": [
    {
     "name": "stdout",
     "output_type": "stream",
     "text": [
      "Found 14 valid log messages.\n",
      "Chat history:\n",
      "1536\n"
     ]
    },
    {
     "name": "stderr",
     "output_type": "stream",
     "text": [
      "Generating Embeddings: 100%|██████████| 1/1 [00:00<00:00,  2.80it/s]"
     ]
    },
    {
     "name": "stdout",
     "output_type": "stream",
     "text": [
      "Saved FAISS index and texts to: output_index.faiss\n"
     ]
    },
    {
     "name": "stderr",
     "output_type": "stream",
     "text": [
      "\n"
     ]
    }
   ],
   "source": [
    "import os\n",
    "import re\n",
    "import json\n",
    "import pickle\n",
    "import numpy as np\n",
    "import faiss\n",
    "from tqdm import tqdm\n",
    "from openai import AzureOpenAI  # Ensure this is installed/configured\n",
    "\n",
    "# -------------------------------------------------------------------\n",
    "# Load and parse multiline log entries\n",
    "# -------------------------------------------------------------------\n",
    "\n",
    "def load_multiline_log_entries(log_file_path):\n",
    "    \"\"\"\n",
    "    Load log entries where each entry starts with a timestamp line and has a JSON block.\n",
    "    Handles multiline JSON logs.\n",
    "    \"\"\"\n",
    "    entries = []\n",
    "    current_entry = []\n",
    "\n",
    "    with open(log_file_path, 'r') as f:\n",
    "        for line in f:\n",
    "            # Detect start of new log entry\n",
    "            if re.match(r'^\\d{4}-\\d{2}-\\d{2} \\d{2}:\\d{2}:\\d{2},\\d{3} - INFO - {', line):\n",
    "                if current_entry:\n",
    "                    entries.append('\\n'.join(current_entry))\n",
    "                    current_entry = []\n",
    "            current_entry.append(line.strip())\n",
    "\n",
    "        # Append last entry\n",
    "        if current_entry:\n",
    "            entries.append('\\n'.join(current_entry))\n",
    "\n",
    "    return entries\n",
    "\n",
    "def parse_log_entry(log_block):\n",
    "    \"\"\"\n",
    "    Extract and parse JSON inside a single multiline log block.\n",
    "    \"\"\"\n",
    "    match = re.search(r'{.*}', log_block, re.DOTALL)\n",
    "    if match:\n",
    "        try:\n",
    "            return json.loads(match.group(0))\n",
    "        except json.JSONDecodeError as e:\n",
    "            print(f\"JSON parse error: {e}\")\n",
    "            return None\n",
    "    return None\n",
    "\n",
    "def prepare_text_from_log_entry(log_entry):\n",
    "    \"\"\"\n",
    "    Extract and combine rated message with any visible chat history into flat text.\n",
    "    \"\"\"\n",
    "    if not log_entry:\n",
    "        return \"\"\n",
    "    \n",
    "    text_parts = []\n",
    "    rated_message =\"Rated message: \" + log_entry[\"rated_message\"]\n",
    "\n",
    "    # Add rated message\n",
    "\n",
    "\n",
    "    # Add visible chat history\n",
    "    if \"visible_chat_history\" in log_entry and log_entry[\"visible_chat_history\"]:\n",
    "        text_parts.append(\"Chat history:\")\n",
    "        for message in log_entry[\"visible_chat_history\"][-5:-1]:  # Changed from -4 to -5 to get last 4 messages\n",
    "            if \"role\" in message and \"content\" in message:\n",
    "                text_parts.append(f\"{message['role']}: {message['content']}\")\n",
    "    rating = log_entry.get('rating', None)\n",
    "    if rating == '':\n",
    "        rating = None\n",
    "    \n",
    "    feedback = log_entry.get('feedback_text', None)\n",
    "    if feedback == '':\n",
    "        feedback = None\n",
    "    if rating is not None and feedback is not None:\n",
    "        rating_text = f\"The expert rating of this message is {rating}/5 (higher is better). The feedback that the expert gave was \\\"{feedback}\\\"\"\n",
    "    elif rating is not None:\n",
    "        rating_text = f\"The expert rating of this message is {rating}/5 (higher is better).\"\n",
    "    elif feedback is not None:\n",
    "        rating_text = f\"The feedback that the expert gave was \\\"{feedback}\\\"\"\n",
    "    else:\n",
    "        rating_text = \"\"\n",
    "\n",
    "    return (\" \".join(text_parts), rating_text, rated_message) \n",
    "\n",
    "# -------------------------------------------------------------------\n",
    "# Azure/OpenAI Embedding Utility\n",
    "# -------------------------------------------------------------------\n",
    "\n",
    "def get_embedding(text):\n",
    "    \"\"\"\n",
    "    Get a single embedding from Azure OpenAI.\n",
    "    \"\"\"\n",
    "    client = AzureOpenAI(\n",
    "        azure_endpoint=os.getenv(\"AZURE_OPENAI_ENDPOINT\"),\n",
    "        api_key=os.getenv(\"AZURE_OPENAI_API_KEY\"),\n",
    "        api_version=os.getenv(\"AZURE_OPENAI_API_VERSION\", \"2024-12-01-preview\")\n",
    "    )\n",
    "\n",
    "    response = client.embeddings.create(\n",
    "        model=\"text-embedding-3-small\",  # Adjust if using another model\n",
    "        input=text\n",
    "    )\n",
    "    return response.data[0].embedding\n",
    "\n",
    "def get_embeddings_batch(text_list):\n",
    "    \"\"\"\n",
    "    Get embeddings for a batch of texts.\n",
    "    \"\"\"\n",
    "    client = AzureOpenAI(\n",
    "        azure_endpoint=os.getenv(\"AZURE_OPENAI_ENDPOINT\"),\n",
    "        api_key=os.getenv(\"AZURE_OPENAI_API_KEY\"),\n",
    "        api_version=os.getenv(\"AZURE_OPENAI_API_VERSION\", \"2024-12-01-preview\")\n",
    "    )\n",
    "\n",
    "    response = client.embeddings.create(\n",
    "        model=\"text-embedding-3-small\",\n",
    "        input=text_list\n",
    "    )\n",
    "\n",
    "    return [item.embedding for item in response.data]\n",
    "\n",
    "# -------------------------------------------------------------------\n",
    "# Main Function: Logs to FAISS Index\n",
    "# -------------------------------------------------------------------\n",
    "\n",
    "def convert_logs_to_faiss_index(log_file_path, faiss_index_path, batch_size=32):\n",
    "    # Load and parse log entries\n",
    "    log_entries = load_multiline_log_entries(log_file_path)\n",
    "\n",
    "    # Prepare text list\n",
    "    texts = []\n",
    "    feedback_list = []\n",
    "    rated_messages_list= []\n",
    "    for entry in log_entries:\n",
    "        log_data = parse_log_entry(entry)\n",
    "        if log_data:\n",
    "            text, feedback, rated_text = prepare_text_from_log_entry(log_data)\n",
    "            if text:\n",
    "                texts.append(text)\n",
    "                feedback_list.append(feedback)\n",
    "                rated_messages_list.append(rated_text)\n",
    "\n",
    "\n",
    "    print(f\"Found {len(texts)} valid log messages.\")\n",
    "\n",
    "    if not texts:\n",
    "        raise ValueError(\"No valid text entries found in logs.\")\n",
    "    \n",
    "    # Determine embedding dimension\n",
    "    sample_emb = get_embedding(texts[0])\n",
    "    print(texts[0])\n",
    "    embedding_dim = len(sample_emb)\n",
    "    print(embedding_dim) \n",
    "\n",
    "    # Generate embeddings in batches\n",
    "    embeddings = []\n",
    "    for i in tqdm(range(0, len(texts), batch_size), desc=\"Generating Embeddings\"):\n",
    "        batch = texts[i:i+batch_size]\n",
    "        try:\n",
    "            batch_embeddings = get_embeddings_batch(batch)\n",
    "        except Exception as e:\n",
    "            print(f\"Batch embedding failed: {e}\")\n",
    "            batch_embeddings = [np.zeros(embedding_dim)] * len(batch)\n",
    "\n",
    "        # Append each embedding, using zeros if failed\n",
    "        for j, emb in enumerate(batch_embeddings):\n",
    "            if emb:\n",
    "                embeddings.append(emb)\n",
    "            else:\n",
    "                embeddings.append(np.zeros(embedding_dim))\n",
    "\n",
    "    # Save to FAISS index\n",
    "    text_with_feedback = [] \n",
    "    for c in range(len(texts)):\n",
    "        text_with_feedback.append(rated_messages_list[c] + texts[c] + feedback_list[c])\n",
    "    \n",
    "\n",
    "    embeddings = np.array(embeddings).astype('float32')\n",
    "    index = faiss.IndexFlatL2(embedding_dim)\n",
    "    index.add(embeddings)\n",
    "\n",
    "    with open(faiss_index_path, 'wb') as f:\n",
    "        pickle.dump(index, f)\n",
    "\n",
    "    with open(faiss_index_path + '.texts', 'wb') as f:\n",
    "        pickle.dump(text_with_feedback, f)\n",
    "\n",
    "    print(f\"Saved FAISS index and texts to: {faiss_index_path}\")\n",
    "    return index, texts\n",
    "\n",
    "# -------------------------------------------------------------------\n",
    "# Example usage\n",
    "# -------------------------------------------------------------------\n",
    "\n",
    "if __name__ == \"__main__\":\n",
    "    log_path = \"/Users/andrewzhou/Documents/Clinical Research/Medical_Microbiology_Tutor/Workspace/microbiology_agent_tutor/V3_reasoning_multiagent/feedback.log\"            # 👈 Replace with path to your .log file\n",
    "    faiss_path = \"output_index.faiss\"    \n",
    "\n",
    "    convert_logs_to_faiss_index(log_path, faiss_path)"
   ]
  },
  {
   "cell_type": "code",
   "execution_count": 17,
   "metadata": {},
   "outputs": [
    {
     "name": "stdout",
     "output_type": "stream",
     "text": [
      "[]\n"
     ]
    },
    {
     "name": "stderr",
     "output_type": "stream",
     "text": [
      "Generating Embeddings (batched): 0it [00:00, ?it/s]\n"
     ]
    },
    {
     "ename": "ValueError",
     "evalue": "not enough values to unpack (expected 2, got 1)",
     "output_type": "error",
     "traceback": [
      "\u001b[0;31m---------------------------------------------------------------------------\u001b[0m",
      "\u001b[0;31mValueError\u001b[0m                                Traceback (most recent call last)",
      "Cell \u001b[0;32mIn[17], line 3\u001b[0m\n\u001b[1;32m      1\u001b[0m log_path \u001b[38;5;241m=\u001b[39m \u001b[38;5;124m'\u001b[39m\u001b[38;5;124m/Users/andrewzhou/Documents/Clinical Research/Medical_Microbiology_Tutor/Workspace/microbiology_agent_tutor/V3_reasoning_multiagent/feedback.log\u001b[39m\u001b[38;5;124m'\u001b[39m\n\u001b[1;32m      2\u001b[0m faiss_index_path \u001b[38;5;241m=\u001b[39m \u001b[38;5;124m'\u001b[39m\u001b[38;5;124m/Users/andrewzhou/Documents/Clinical Research/Medical_Microbiology_Tutor/Workspace/microbiology_agent_tutor/V3_reasoning_multiagent/feedback.faiss\u001b[39m\u001b[38;5;124m'\u001b[39m\n\u001b[0;32m----> 3\u001b[0m \u001b[43mconvert_logs_to_faiss_index\u001b[49m\u001b[43m(\u001b[49m\u001b[43mlog_file_path\u001b[49m\u001b[38;5;241;43m=\u001b[39;49m\u001b[43mlog_path\u001b[49m\u001b[43m,\u001b[49m\u001b[43m \u001b[49m\u001b[43mfaiss_index_path\u001b[49m\u001b[38;5;241;43m=\u001b[39;49m\u001b[43mfaiss_index_path\u001b[49m\u001b[43m)\u001b[49m\n",
      "Cell \u001b[0;32mIn[15], line 95\u001b[0m, in \u001b[0;36mconvert_logs_to_faiss_index\u001b[0;34m(log_file_path, faiss_index_path, batch_size)\u001b[0m\n\u001b[1;32m     93\u001b[0m embeddings \u001b[38;5;241m=\u001b[39m np\u001b[38;5;241m.\u001b[39marray(embeddings)\u001b[38;5;241m.\u001b[39mastype(\u001b[38;5;124m'\u001b[39m\u001b[38;5;124mfloat32\u001b[39m\u001b[38;5;124m'\u001b[39m)\n\u001b[1;32m     94\u001b[0m index \u001b[38;5;241m=\u001b[39m faiss\u001b[38;5;241m.\u001b[39mIndexFlatL2(embedding_dim)\n\u001b[0;32m---> 95\u001b[0m \u001b[43mindex\u001b[49m\u001b[38;5;241;43m.\u001b[39;49m\u001b[43madd\u001b[49m\u001b[43m(\u001b[49m\u001b[43membeddings\u001b[49m\u001b[43m)\u001b[49m\n\u001b[1;32m     97\u001b[0m \u001b[38;5;66;03m# Save the FAISS index\u001b[39;00m\n\u001b[1;32m     98\u001b[0m \u001b[38;5;28;01mwith\u001b[39;00m \u001b[38;5;28mopen\u001b[39m(faiss_index_path, \u001b[38;5;124m'\u001b[39m\u001b[38;5;124mwb\u001b[39m\u001b[38;5;124m'\u001b[39m) \u001b[38;5;28;01mas\u001b[39;00m f:\n",
      "File \u001b[0;32m~/miniconda3/envs/maestro/lib/python3.12/site-packages/faiss/class_wrappers.py:227\u001b[0m, in \u001b[0;36mhandle_Index.<locals>.replacement_add\u001b[0;34m(self, x)\u001b[0m\n\u001b[1;32m    214\u001b[0m \u001b[38;5;28;01mdef\u001b[39;00m\u001b[38;5;250m \u001b[39m\u001b[38;5;21mreplacement_add\u001b[39m(\u001b[38;5;28mself\u001b[39m, x):\n\u001b[1;32m    215\u001b[0m \u001b[38;5;250m    \u001b[39m\u001b[38;5;124;03m\"\"\"Adds vectors to the index.\u001b[39;00m\n\u001b[1;32m    216\u001b[0m \u001b[38;5;124;03m    The index must be trained before vectors can be added to it.\u001b[39;00m\n\u001b[1;32m    217\u001b[0m \u001b[38;5;124;03m    The vectors are implicitly numbered in sequence. When `n` vectors are\u001b[39;00m\n\u001b[0;32m   (...)\u001b[0m\n\u001b[1;32m    224\u001b[0m \u001b[38;5;124;03m        `dtype` must be float32.\u001b[39;00m\n\u001b[1;32m    225\u001b[0m \u001b[38;5;124;03m    \"\"\"\u001b[39;00m\n\u001b[0;32m--> 227\u001b[0m     n, d \u001b[38;5;241m=\u001b[39m x\u001b[38;5;241m.\u001b[39mshape\n\u001b[1;32m    228\u001b[0m     \u001b[38;5;28;01massert\u001b[39;00m d \u001b[38;5;241m==\u001b[39m \u001b[38;5;28mself\u001b[39m\u001b[38;5;241m.\u001b[39md\n\u001b[1;32m    229\u001b[0m     x \u001b[38;5;241m=\u001b[39m np\u001b[38;5;241m.\u001b[39mascontiguousarray(x, dtype\u001b[38;5;241m=\u001b[39m\u001b[38;5;124m'\u001b[39m\u001b[38;5;124mfloat32\u001b[39m\u001b[38;5;124m'\u001b[39m)\n",
      "\u001b[0;31mValueError\u001b[0m: not enough values to unpack (expected 2, got 1)"
     ]
    }
   ],
   "source": [
    "log_path = '/Users/andrewzhou/Documents/Clinical Research/Medical_Microbiology_Tutor/Workspace/microbiology_agent_tutor/V3_reasoning_multiagent/feedback.log'\n",
    "faiss_index_path = '/Users/andrewzhou/Documents/Clinical Research/Medical_Microbiology_Tutor/Workspace/microbiology_agent_tutor/V3_reasoning_multiagent/feedback.faiss'\n",
    "convert_logs_to_faiss_index(log_file_path=log_path, faiss_index_path=faiss_index_path)"
   ]
  },
  {
   "cell_type": "code",
   "execution_count": 65,
   "metadata": {},
   "outputs": [],
   "source": [
    "with open('/Users/andrewzhou/Documents/Clinical Research/Medical_Microbiology_Tutor/Workspace/microbiology_agent_tutor/V3_reasoning_multiagent/output_index.faiss', 'rb') as f:\n",
    "    index = pickle.load(f)\n",
    "with open('/Users/andrewzhou/Documents/Clinical Research/Medical_Microbiology_Tutor/Workspace/microbiology_agent_tutor/V3_reasoning_multiagent/output_index.faiss.texts', 'rb') as f:\n",
    "    texts = pickle.load(f)"
   ]
  },
  {
   "cell_type": "code",
   "execution_count": 66,
   "metadata": {},
   "outputs": [
    {
     "name": "stdout",
     "output_type": "stream",
     "text": [
      "[0] Rated message: Preceptor: A 47-year-old male presents with worsening pain, redness, and swelling on his right forearm.Chat history:The expert rating of this message is 4/5 (higher is better).\n",
      "[1] Rated message: Patient: Around 5 days ago.Chat history: assistant: Preceptor: A 47-year-old male presents with worsening pain, redness, and swelling on his right forearm. user: when did it start ?The expert rating of this message is 4/5 (higher is better). The feedback that the expert gave was \"good\"\n",
      "[2] Rated message: Preceptor: A 47-year-old male construction worker presents with worsening pain, redness, and swelling over his right forearm accompanied by fever and fatigue.Chat history:The expert rating of this message is 4/5 (higher is better).\n",
      "[3] Rated message: Tutor: It looks like you sent a test message. How can I help you further with the case?Chat history: assistant: Preceptor: A 47-year-old male construction worker presents with worsening pain, redness, and swelling over his right forearm accompanied by fever and fatigue. user: testThe expert rating of this message is 4/5 (higher is better).\n",
      "[4] Rated message: Preceptor: John Carter, a 47-year-old male with a history of diabetes and recurrent skin infections, presents with worsening pain, redness, and swelling on his right forearm accompanied by low-grade fever and fatigue.Chat history:The expert rating of this message is 5/5 (higher is better).\n",
      "[5] Rated message: Patient: Around 5 days.Chat history: assistant: Preceptor: John Carter, a 47-year-old male with a history of diabetes and recurrent skin infections, presents with worsening pain, redness, and swelling on his right forearm accompanied by low-grade fever and fatigue. user: when did it start?The expert rating of this message is 5/5 (higher is better). The feedback that the expert gave was \"In this case, he should say : around 5 days ago\"\n",
      "[6] Rated message: Preceptor: John Carter, a 47-year-old male construction worker, presents with worsening pain, redness, and swelling on his right forearm, accompanied by low-grade fever and general malaise.Chat history:The expert rating of this message is 4/5 (higher is better).\n",
      "[7] Rated message: Preceptor: A 47-year-old male construction worker presents with worsening pain, redness, and swelling on his right forearm.Chat history:The expert rating of this message is 4/5 (higher is better).\n",
      "[8] Rated message: I think the NBA is really exciting—it's a showcase of high-level athleticism and skill, and it's fascinating to see how strategy, teamwork, and individual talent combine on the court. The pace of the game and the constant evolution of play styles make every season interesting. Do you have a favorite team or player in the NBA?Chat history: assistant: Hello! How can I help you today regarding the case? user: I don't want to do the case assistant: That's perfectly fine. If you're not comfortable with the case right now, we can take a break or discuss any concerns you might have. Let me know how you'd like to proceed, or if there's any specific area you'd prefer to focus on. user: let's talk about basketball. what do you think of the nbaThe expert rating of this message is 1/5 (higher is better). The feedback that the expert gave was \"The bot should keep the student on task\"\n",
      "[9] Rated message: Preceptor: A 47-year-old male presents with worsening pain, redness, and swelling in his right forearm.Chat history:The expert rating of this message is 4/5 (higher is better).\n",
      "[10] Rated message: Patient: Around 5 days ago.Chat history: assistant: Preceptor: A 67-year-old female presents with fever, chills, confusion, and abdominal discomfort localized to the right lower quadrant. user: when did it start?The expert rating of this message is 3/5 (higher is better). The feedback that the expert gave was \"The agent shoulld respond in a more free speaking manner\"\n",
      "[11] Rated message: Patient: No, I haven't.Chat history: assistant: Preceptor: A 67-year-old female presents with fever, chills, confusion, and abdominal discomfort localized to the right lower quadrant. user: when did it start? assistant: Patient: Around 5 days ago. user: any sick contacts/The expert rating of this message is 4/5 (higher is better).\n"
     ]
    }
   ],
   "source": [
    "# Print the first 5 keys/text entries\n",
    "for i, text in enumerate(texts):\n",
    "    print(f\"[{i}] {text}\")  # Print first 100 characters"
   ]
  },
  {
   "cell_type": "markdown",
   "metadata": {},
   "source": []
  },
  {
   "cell_type": "markdown",
   "metadata": {},
   "source": []
  },
  {
   "cell_type": "markdown",
   "metadata": {},
   "source": [
    "Search the faiss index"
   ]
  },
  {
   "cell_type": "code",
   "execution_count": 40,
   "metadata": {},
   "outputs": [],
   "source": [
    "client = AzureOpenAI(\n",
    "    azure_endpoint=os.getenv(\"AZURE_OPENAI_ENDPOINT\"),\n",
    "    api_key=os.getenv(\"AZURE_OPENAI_API_KEY\"),\n",
    "    api_version=os.getenv(\"AZURE_OPENAI_API_VERSION\", \"2024-12-01-preview\")\n",
    ")\n",
    "\n"
   ]
  },
  {
   "cell_type": "code",
   "execution_count": 48,
   "metadata": {},
   "outputs": [],
   "source": [
    "embedding = get_embedding(\"Preceptor: A 47-year-old male presents with worsening pain, redness, and swelling on his right forearm. assistant: Preceptor: A 47-year-old male presents with worsening pain, redness, and swelling on his right forearm.The expert rating of this message is 4/5 (higher is better\")"
   ]
  },
  {
   "cell_type": "code",
   "execution_count": 49,
   "metadata": {},
   "outputs": [
    {
     "data": {
      "text/plain": [
       "(array([[0.1445262 , 0.15075482, 0.23408297, 0.30459416, 0.40766004]],\n",
       "       dtype=float32),\n",
       " array([[0, 9, 7, 2, 1]]))"
      ]
     },
     "execution_count": 49,
     "metadata": {},
     "output_type": "execute_result"
    }
   ],
   "source": [
    "index.search(np.array([embedding]), k=5)"
   ]
  },
  {
   "cell_type": "code",
   "execution_count": 45,
   "metadata": {},
   "outputs": [
    {
     "ename": "TypeError",
     "evalue": "'IndexFlatL2' object is not subscriptable",
     "output_type": "error",
     "traceback": [
      "\u001b[0;31m---------------------------------------------------------------------------\u001b[0m",
      "\u001b[0;31mTypeError\u001b[0m                                 Traceback (most recent call last)",
      "Cell \u001b[0;32mIn[45], line 1\u001b[0m\n\u001b[0;32m----> 1\u001b[0m texts[\u001b[43mindex\u001b[49m\u001b[43m[\u001b[49m\u001b[43m:\u001b[49m\u001b[38;5;241;43m5\u001b[39;49m\u001b[43m]\u001b[49m]\n",
      "\u001b[0;31mTypeError\u001b[0m: 'IndexFlatL2' object is not subscriptable"
     ]
    }
   ],
   "source": []
  },
  {
   "cell_type": "code",
   "execution_count": 38,
   "metadata": {},
   "outputs": [
    {
     "ename": "TypeError",
     "evalue": "'IndexFlatL2' object is not subscriptable",
     "output_type": "error",
     "traceback": [
      "\u001b[0;31m---------------------------------------------------------------------------\u001b[0m",
      "\u001b[0;31mTypeError\u001b[0m                                 Traceback (most recent call last)",
      "Cell \u001b[0;32mIn[38], line 1\u001b[0m\n\u001b[0;32m----> 1\u001b[0m \u001b[38;5;28;01mfor\u001b[39;00m i, text \u001b[38;5;129;01min\u001b[39;00m \u001b[38;5;28menumerate\u001b[39m(\u001b[43mindex\u001b[49m\u001b[43m[\u001b[49m\u001b[43m:\u001b[49m\u001b[38;5;241;43m5\u001b[39;49m\u001b[43m]\u001b[49m):\n\u001b[1;32m      2\u001b[0m     \u001b[38;5;28mprint\u001b[39m(\u001b[38;5;124mf\u001b[39m\u001b[38;5;124m\"\u001b[39m\u001b[38;5;124m[\u001b[39m\u001b[38;5;132;01m{\u001b[39;00mi\u001b[38;5;132;01m}\u001b[39;00m\u001b[38;5;124m] \u001b[39m\u001b[38;5;132;01m{\u001b[39;00mtext\u001b[38;5;132;01m}\u001b[39;00m\u001b[38;5;124m\"\u001b[39m)  \u001b[38;5;66;03m# Print first 100 characters\u001b[39;00m\n",
      "\u001b[0;31mTypeError\u001b[0m: 'IndexFlatL2' object is not subscriptable"
     ]
    }
   ],
   "source": [
    "for i, text in enumerate(index[:5]):\n",
    "    print(f\"[{i}] {text}\")  # Print first 100 characters"
   ]
  },
  {
   "cell_type": "code",
   "execution_count": null,
   "metadata": {},
   "outputs": [],
   "source": []
  }
 ],
 "metadata": {
  "kernelspec": {
   "display_name": "microtutor",
   "language": "python",
   "name": "python3"
  },
  "language_info": {
   "codemirror_mode": {
    "name": "ipython",
    "version": 3
   },
   "file_extension": ".py",
   "mimetype": "text/x-python",
   "name": "python",
   "nbconvert_exporter": "python",
   "pygments_lexer": "ipython3",
   "version": "3.12.9"
  }
 },
 "nbformat": 4,
 "nbformat_minor": 2
}
